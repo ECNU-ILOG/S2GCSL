{
 "cells": [
  {
   "cell_type": "code",
   "execution_count": 1,
   "metadata": {
    "collapsed": true
   },
   "outputs": [],
   "source": [
    "import numpy as np\n",
    "import torch\n",
    "import pandas as pd\n",
    "import os"
   ]
  },
  {
   "cell_type": "code",
   "execution_count": 2,
   "outputs": [],
   "source": [
    "def set_seeds(seed: int):\n",
    "    np.random.seed(seed)\n",
    "    torch.manual_seed(seed)\n",
    "    torch.cuda.manual_seed(seed)\n",
    "    torch.manual_seed(seed)\n",
    "set_seeds(42)"
   ],
   "metadata": {
    "collapsed": false
   }
  },
  {
   "cell_type": "code",
   "execution_count": 6,
   "outputs": [
    {
     "name": "stderr",
     "output_type": "stream",
     "text": [
      "100%|██████████| 40/40 [00:00<00:00, 273.97it/s]\n",
      "100%|██████████| 40/40 [00:00<00:00, 110.02it/s]\n",
      "100%|██████████| 40/40 [00:00<00:00, 55.11it/s]\n",
      "100%|██████████| 40/40 [00:00<00:00, 41.27it/s]\n",
      "100%|██████████| 40/40 [00:00<00:00, 41.71it/s]\n",
      "100%|██████████| 40/40 [00:00<00:00, 50.47it/s]\n"
     ]
    }
   ],
   "source": [
    "from castle.datasets import DAG, Topology, THPSimulation\n",
    "\n",
    "dataset = 'You_Name_This_Run'\n",
    "# Data Simulation for TTPM\n",
    "true_causal_matrix = DAG.erdos_renyi(n_nodes=20, n_edges=40)\n",
    "topology_matrix = np.array(Topology.erdos_renyi(n_nodes=40, n_edges=80))\n",
    "\n",
    "simulator = THPSimulation(true_causal_matrix, topology_matrix, mu_range=(0.00003, 0.00005), alpha_range=(0.02, 0.03))\n",
    "X = simulator.simulate(T=10000, max_hop=2)\n",
    "sample_size = 200000\n",
    "data = X.rename(columns={'event': 'alarm_id', 'timestamp': 'start_timestamp', 'node': 'device_id', 'duration': 'end_timestamp'})\n",
    "data = data.iloc[:sample_size]\n",
    "data['end_timestamp'] = data['end_timestamp'] + data['start_timestamp']\n",
    "\n",
    "device_n = data['device_id'].nunique()\n",
    "event_n = data['alarm_id'].nunique()"
   ],
   "metadata": {
    "collapsed": false
   }
  },
  {
   "cell_type": "code",
   "execution_count": 8,
   "outputs": [
    {
     "data": {
      "text/plain": "(40, 20)"
     },
     "execution_count": 8,
     "metadata": {},
     "output_type": "execute_result"
    }
   ],
   "source": [
    "device_n, event_n"
   ],
   "metadata": {
    "collapsed": false
   }
  },
  {
   "cell_type": "code",
   "execution_count": 9,
   "outputs": [],
   "source": [
    "from collections import deque\n",
    "\n",
    "k_hop = 2\n",
    "\n",
    "def find_k_hop_neighbors(adj_matr, k):\n",
    "    \"\"\"\n",
    "    寻找每个节点的k跳邻居\n",
    "    :param adj_matr: 对称的邻接矩阵\n",
    "    :param k: 距离阈值\n",
    "    :return: 包含每个节点的k跳邻居的字典\n",
    "    \"\"\"\n",
    "    n = len(adj_matr)\n",
    "    neighbors_dict = {i: [i] for i in range(n)}\n",
    "\n",
    "    for node in range(n):\n",
    "        visited = [False] * n\n",
    "        visited[node] = True\n",
    "        queue = deque([(node, 0)])\n",
    "        while queue:\n",
    "            curr_node, curr_dist = queue.popleft()\n",
    "            if curr_dist > k:\n",
    "                break\n",
    "            for neighbor in range(n):\n",
    "                if adj_matr[curr_node][neighbor] and not visited[neighbor]:\n",
    "                    visited[neighbor] = True\n",
    "                    neighbors_dict[node].append(neighbor)\n",
    "                    queue.append((neighbor, curr_dist + 1))\n",
    "\n",
    "    return neighbors_dict\n",
    "\n",
    "nei_dict = find_k_hop_neighbors(topology_matrix, k_hop)"
   ],
   "metadata": {
    "collapsed": false
   }
  },
  {
   "cell_type": "code",
   "execution_count": 10,
   "outputs": [],
   "source": [
    "# normalization = data['start_timestamp'].max()/100\n",
    "normalization = 1\n",
    "seqs = []\n",
    "nei_seqs = []\n",
    "count_matr = np.zeros((device_n, event_n))\n",
    "for device in range(device_n):\n",
    "    filtered_data = data[data['device_id']==device]\n",
    "    seq = torch.tensor(filtered_data[['alarm_id', 'start_timestamp', 'end_timestamp']].values, dtype=torch.float)\n",
    "    alarm_counts = filtered_data['alarm_id'].value_counts()\n",
    "    value_count = filtered_data['alarm_id'].value_counts().sort_index()\n",
    "    count_matr[device, :] = value_count.reindex(np.arange(event_n), fill_value=0).values\n",
    "    seqs.append(seq)\n",
    "\n",
    "    nei_filtered_data = data[data['device_id'].isin(nei_dict[device])]\n",
    "    nei_seqs.append(torch.tensor(nei_filtered_data[['alarm_id', 'start_timestamp', 'end_timestamp']].values, dtype=torch.float))"
   ],
   "metadata": {
    "collapsed": false
   }
  },
  {
   "cell_type": "code",
   "execution_count": 11,
   "outputs": [],
   "source": [
    "def count_bin(g):\n",
    "    counts = torch.bincount(g)\n",
    "    if counts.shape[0] < event_n:\n",
    "        counts = torch.cat([counts, torch.zeros(event_n - counts.shape[0])])\n",
    "    return counts\n",
    "\n",
    "def cal_mask(seqs, nei_seqs):\n",
    "    mask_len = 0\n",
    "    Tc = 0\n",
    "    for s in seqs:\n",
    "        mask_len += s.shape[0]\n",
    "        Tc += s[-1, 2]\n",
    "    A_mask = torch.zeros((mask_len, event_n, event_n))\n",
    "    mu_mask = torch.zeros((mask_len, event_n))\n",
    "    mu_mask_2 = torch.ones(event_n) * Tc\n",
    "    A_mask_2 = torch.zeros((event_n, event_n))\n",
    "    count = 0\n",
    "    for c in range(len(seqs)):\n",
    "        seq = seqs[c]\n",
    "        nei_seq = nei_seqs[c]\n",
    "        #part1 loss\n",
    "        for e in range(seq.shape[0]):\n",
    "            time_e = seq[e, 1]\n",
    "            g = nei_seq[(nei_seq[:, 1] < time_e) & (nei_seq[:, 2] > time_e), 0].to(torch.int64)\n",
    "            A_mask[count, :, seq[e, 0].to(torch.int64)] = count_bin(g)\n",
    "            mu_mask[count, seq[e, 0].to(torch.int64)] = 1\n",
    "            # log(A * A_mask + mu * mu_mask)\n",
    "            count += 1\n",
    "        for nei_e in range(nei_seq.shape[0]):\n",
    "            A_mask_2[nei_seq[nei_e, 0].to(torch.int64), :] += nei_seq[nei_e, 2] -nei_seq[nei_e, 1]\n",
    "    return A_mask, mu_mask, A_mask_2, mu_mask_2\n"
   ],
   "metadata": {
    "collapsed": false
   }
  },
  {
   "cell_type": "code",
   "execution_count": 12,
   "outputs": [],
   "source": [
    "if os.path.exists('./Masks/{}_{}_masks.pth'.format(dataset, k_hop)):\n",
    "    masks = torch.load('./Masks/{}_{}_masks.pth'.format(dataset, k_hop))\n",
    "    A_mask, mu_mask, A_mask_2, mu_mask_2 = masks\n",
    "else:\n",
    "    A_mask, mu_mask, A_mask_2, mu_mask_2 = cal_mask(seqs, nei_seqs)\n",
    "    torch.save([A_mask, mu_mask, A_mask_2, mu_mask_2], './Masks/{}_{}_masks.pth'.format(dataset, k_hop))"
   ],
   "metadata": {
    "collapsed": false
   }
  },
  {
   "cell_type": "code",
   "execution_count": 32,
   "outputs": [],
   "source": [
    "import torch\n",
    "import torch.nn.functional as F\n",
    "def loglikelihood(A, mu, A_mask, mu_mask, A_mask_2, mu_mask_2):\n",
    "    A = F.softplus(A) * prior_mask\n",
    "    mu = F.softplus(mu)\n",
    "    LL = 0\n",
    "    LL += torch.sum(torch.log(torch.sum(A.unsqueeze(0) * A_mask, dim=(1, 2)) + torch.sum(mu.unsqueeze(0) * mu_mask, dim=1)))\n",
    "    LL -= torch.sum(mu * mu_mask_2)\n",
    "    LL -= torch.sum(A * A_mask_2)\n",
    "    return LL\n",
    "\n",
    "def revsoftplus(A):\n",
    "    return torch.log(torch.exp(A) - 1)\n",
    "\n",
    "# 定义L1范数\n",
    "def l1_norm(A):\n",
    "    return torch.norm(F.softplus(A), p=1)\n",
    "\n",
    "\n",
    "def acyc_norm(A):\n",
    "    A = F.softplus(A) * prior_mask\n",
    "    init_e = torch.eye(event_n).to(my_device)\n",
    "    M = init_e + A * A / event_n\n",
    "    E = torch.matrix_power(M, event_n - 1)\n",
    "    h = (E.t() * M).sum() - event_n\n",
    "    return h\n",
    "\n",
    "def loss_fn(A, mu, A_mask, mu_mask, A_mask_2, mu_mask_2, lambda1 = 5e3, lambda2 = 5e3):\n",
    "    L = loglikelihood(A, mu, A_mask, mu_mask, A_mask_2, mu_mask_2)\n",
    "    l1 = lambda1 * l1_norm(A)\n",
    "    l2 = lambda2 * acyc_norm(A)\n",
    "    loss = -L + l1 +l2\n",
    "    return loss\n"
   ],
   "metadata": {
    "collapsed": false
   }
  },
  {
   "cell_type": "code",
   "execution_count": 33,
   "outputs": [
    {
     "name": "stderr",
     "output_type": "stream",
     "text": [
      "100%|██████████| 1000/1000 [00:17<00:00, 57.82it/s]\n",
      "100%|██████████| 500/500 [00:08<00:00, 59.78it/s]\n"
     ]
    }
   ],
   "source": [
    "from tqdm import tqdm\n",
    "\n",
    "my_device = 'cuda'\n",
    "\n",
    "A = torch.ones((event_n, event_n), requires_grad=True, device=my_device) * 1e-7\n",
    "prior_mask = torch.ones((event_n, event_n), device=my_device)\n",
    "prior_mask.fill_diagonal_(0)\n",
    "A = revsoftplus(A).detach().requires_grad_(True)\n",
    "\n",
    "mu = torch.ones(event_n, requires_grad=True, device=my_device) * 1e-7\n",
    "mu = mu.clone().detach().requires_grad_(True)\n",
    "\n",
    "Loss = []\n",
    "eps = [1000, 500]\n",
    "A_li = [F.softplus(A).cpu().detach().numpy()]\n",
    "for ep in eps:\n",
    "    optimizer = torch.optim.Adam([A, mu], lr=0.05)\n",
    "    for epoch in tqdm(range(ep)):\n",
    "        optimizer.zero_grad()\n",
    "        loss = loss_fn(A, mu, A_mask.to(my_device), mu_mask.to(my_device), A_mask_2.to(my_device), mu_mask_2.to(my_device))\n",
    "        loss.backward()\n",
    "        optimizer.step()\n",
    "        Loss.append(loss.item())\n",
    "        A_li.append(F.softplus(A).cpu().detach().numpy())"
   ],
   "metadata": {
    "collapsed": false
   }
  },
  {
   "cell_type": "code",
   "execution_count": 34,
   "outputs": [
    {
     "data": {
      "text/plain": "[<matplotlib.lines.Line2D at 0x24b816fd940>]"
     },
     "execution_count": 34,
     "metadata": {},
     "output_type": "execute_result"
    },
    {
     "data": {
      "text/plain": "<Figure size 640x480 with 1 Axes>",
      "image/png": "[encoded data removed]"
     },
     "metadata": {},
     "output_type": "display_data"
    }
   ],
   "source": [
    "import matplotlib.pyplot as plt\n",
    "plt.plot(np.arange(len(Loss)), Loss)"
   ],
   "metadata": {
    "collapsed": false
   }
  },
  {
   "cell_type": "code",
   "execution_count": 35,
   "outputs": [
    {
     "data": {
      "text/plain": "<Figure size 800x300 with 4 Axes>",
      "image/png": "[encoded data removed]"
     },
     "metadata": {},
     "output_type": "display_data"
    },
    {
     "data": {
      "text/plain": "<castle.common.plot_dag.GraphDAG at 0x24bffa8be80>"
     },
     "execution_count": 35,
     "metadata": {},
     "output_type": "execute_result"
    }
   ],
   "source": [
    "from castle.common import GraphDAG\n",
    "wei_est_matr = F.softplus(A).cpu().detach().numpy()\n",
    "GraphDAG(wei_est_matr, true_causal_matrix)"
   ],
   "metadata": {
    "collapsed": false
   }
  },
  {
   "cell_type": "code",
   "execution_count": null,
   "outputs": [],
   "source": [],
   "metadata": {
    "collapsed": false
   }
  }
 ],
 "metadata": {
  "kernelspec": {
   "display_name": "Python 3",
   "language": "python",
   "name": "python3"
  },
  "language_info": {
   "codemirror_mode": {
    "name": "ipython",
    "version": 2
   },
   "file_extension": ".py",
   "mimetype": "text/x-python",
   "name": "python",
   "nbconvert_exporter": "python",
   "pygments_lexer": "ipython2",
   "version": "2.7.6"
  }
 },
 "nbformat": 4,
 "nbformat_minor": 0
}
